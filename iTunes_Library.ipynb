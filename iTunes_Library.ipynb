{
 "cells": [
  {
   "cell_type": "raw",
   "metadata": {},
   "source": [
    "iTunesで'曲’プレイリストを標準テキスト(UTF-8? 改行コード CR(\\r))で書き出し\n",
    "書き出し時にHDDがマウントされているとなぜかファイルサイズが1.5倍ほどになる、曲の並び順も変わる、なぜ？"
   ]
  },
  {
   "cell_type": "code",
   "execution_count": null,
   "metadata": {
    "ExecuteTime": {
     "end_time": "2019-11-22T02:37:34.183963Z",
     "start_time": "2019-11-22T02:37:34.168363Z"
    }
   },
   "outputs": [],
   "source": [
    "import pandas as pd"
   ]
  },
  {
   "cell_type": "code",
   "execution_count": null,
   "metadata": {
    "ExecuteTime": {
     "end_time": "2019-11-22T02:26:10.302595Z",
     "start_time": "2019-11-22T02:26:10.286974Z"
    }
   },
   "outputs": [],
   "source": [
    "# pandas の最大表示列数を設定 (max_rows で表示行数の設定も可能)\n",
    "pd.set_option('display.max_columns', 30)"
   ]
  },
  {
   "cell_type": "code",
   "execution_count": null,
   "metadata": {
    "ExecuteTime": {
     "end_time": "2019-11-22T02:44:59.759694Z",
     "start_time": "2019-11-22T02:44:54.505641Z"
    }
   },
   "outputs": [],
   "source": [
    "# 事前にexcelにインポートしたデータを使いたい場合\n",
    "# it_excel = pd.read_excel('iTunes_Library_191122.xlsx', keep_default_na=False)"
   ]
  },
  {
   "cell_type": "code",
   "execution_count": null,
   "metadata": {
    "ExecuteTime": {
     "end_time": "2019-11-22T06:57:08.163072Z",
     "start_time": "2019-11-22T06:57:08.009362Z"
    },
    "scrolled": true
   },
   "outputs": [],
   "source": [
    "it_text = pd.read_csv('iTunes_Music_191122.txt'\n",
    "                      , sep='\\t'\n",
    "                      , usecols=[0, 1, 3, 4] # 名前,アーティスト,アルバム,グループ\n",
    "                      , keep_default_na=False # 指定しないと空欄がNaNになる?\n",
    "                      , lineterminator = '\\r' # 改行コード CR\n",
    "                      , encoding='utf-8')"
   ]
  },
  {
   "cell_type": "code",
   "execution_count": null,
   "metadata": {
    "ExecuteTime": {
     "end_time": "2019-11-22T03:20:59.793916Z",
     "start_time": "2019-11-22T03:20:59.778277Z"
    }
   },
   "outputs": [],
   "source": [
    "# 作業用テーブルの作成\n",
    "it = it_text.copy()"
   ]
  },
  {
   "cell_type": "code",
   "execution_count": null,
   "metadata": {
    "ExecuteTime": {
     "end_time": "2019-11-22T03:21:01.215413Z",
     "start_time": "2019-11-22T03:21:01.184167Z"
    },
    "scrolled": true
   },
   "outputs": [],
   "source": [
    "it"
   ]
  },
  {
   "cell_type": "code",
   "execution_count": null,
   "metadata": {
    "ExecuteTime": {
     "end_time": "2019-11-22T03:21:12.279445Z",
     "start_time": "2019-11-22T03:21:12.248204Z"
    }
   },
   "outputs": [],
   "source": [
    "# 数値は文字列に型変換しておかないとgroupby等ができない?\n",
    "it['アルバム'] = it['アルバム'].astype(str)"
   ]
  },
  {
   "cell_type": "code",
   "execution_count": null,
   "metadata": {
    "ExecuteTime": {
     "end_time": "2019-11-22T03:23:14.181292Z",
     "start_time": "2019-11-22T03:23:13.505616Z"
    }
   },
   "outputs": [],
   "source": [
    "# エンコード指定なしで Excel 保存\n",
    "# 出力後に全セルの書式設定を文字列に変更しておいた方がよいかも?\n",
    "writer = pd.ExcelWriter('albums.xlsx')\n",
    "albums.to_excel(writer, index=False)\n",
    "writer.save()"
   ]
  },
  {
   "cell_type": "code",
   "execution_count": null,
   "metadata": {
    "ExecuteTime": {
     "end_time": "2019-11-22T03:45:57.919665Z",
     "start_time": "2019-11-22T03:45:57.857180Z"
    },
    "scrolled": true
   },
   "outputs": [],
   "source": [
    "tracks = it.sort_values(['アーティスト', 'アルバム'])"
   ]
  },
  {
   "cell_type": "code",
   "execution_count": null,
   "metadata": {
    "ExecuteTime": {
     "end_time": "2019-11-22T03:46:03.436554Z",
     "start_time": "2019-11-22T03:46:03.389673Z"
    }
   },
   "outputs": [],
   "source": [
    "tracks"
   ]
  },
  {
   "cell_type": "code",
   "execution_count": null,
   "metadata": {
    "ExecuteTime": {
     "end_time": "2019-11-22T03:46:45.956159Z",
     "start_time": "2019-11-22T03:46:41.319028Z"
    }
   },
   "outputs": [],
   "source": [
    "# エンコード指定なしで Excel 保存\n",
    "# 出力後に全セルの書式設定を文字列に変更しておいた方がよいかも?\n",
    "writer = pd.ExcelWriter('tracks.xlsx')\n",
    "tracks.to_excel(writer, index=False)\n",
    "writer.save()"
   ]
  },
  {
   "cell_type": "code",
   "execution_count": null,
   "metadata": {
    "ExecuteTime": {
     "end_time": "2019-11-22T06:54:15.960317Z",
     "start_time": "2019-11-22T06:54:15.912848Z"
    }
   },
   "outputs": [],
   "source": [
    "albums = it[['アーティスト', 'アルバム', 'グループ']]\\\n",
    "    .drop_duplicates(['アーティスト', 'アルバム'])\\\n",
    "    .sort_values(['アーティスト', 'アルバム'])"
   ]
  },
  {
   "cell_type": "code",
   "execution_count": null,
   "metadata": {
    "ExecuteTime": {
     "end_time": "2019-11-22T06:54:17.566464Z",
     "start_time": "2019-11-22T06:54:17.528680Z"
    },
    "scrolled": true
   },
   "outputs": [],
   "source": [
    "albums"
   ]
  },
  {
   "cell_type": "code",
   "execution_count": null,
   "metadata": {
    "ExecuteTime": {
     "end_time": "2019-11-22T06:45:30.152184Z",
     "start_time": "2019-11-22T06:45:29.390155Z"
    }
   },
   "outputs": [],
   "source": [
    "# エンコード指定なしで Excel 保存\n",
    "# 出力後に全セルの書式設定を文字列に変更しておいた方がよいかも?\n",
    "writer = pd.ExcelWriter('albums.xlsx')\n",
    "albums.to_excel(writer, index=False)\n",
    "writer.save()"
   ]
  },
  {
   "cell_type": "code",
   "execution_count": null,
   "metadata": {
    "ExecuteTime": {
     "end_time": "2019-11-22T03:21:15.244680Z",
     "start_time": "2019-11-22T03:21:15.104506Z"
    }
   },
   "outputs": [],
   "source": [
    "# アーティストごとの楽曲数、アルバム数\n",
    "it.groupby('アーティスト').nunique()"
   ]
  },
  {
   "cell_type": "code",
   "execution_count": null,
   "metadata": {
    "ExecuteTime": {
     "end_time": "2019-11-22T03:21:18.870482Z",
     "start_time": "2019-11-22T03:21:18.730290Z"
    }
   },
   "outputs": [],
   "source": [
    "# アルバムごとの楽曲数\n",
    "it.groupby('アルバム').nunique()"
   ]
  },
  {
   "cell_type": "code",
   "execution_count": null,
   "metadata": {
    "ExecuteTime": {
     "end_time": "2019-11-22T03:21:25.306104Z",
     "start_time": "2019-11-22T03:21:25.244028Z"
    },
    "scrolled": true
   },
   "outputs": [],
   "source": [
    "# アーティストごとのアルバム数\n",
    "it.groupby('アーティスト').agg({'アルバム': 'nunique'})"
   ]
  },
  {
   "cell_type": "code",
   "execution_count": null,
   "metadata": {},
   "outputs": [],
   "source": []
  }
 ],
 "metadata": {
  "kernelspec": {
   "display_name": "Python 3",
   "language": "python",
   "name": "python3"
  },
  "language_info": {
   "codemirror_mode": {
    "name": "ipython",
    "version": 3
   },
   "file_extension": ".py",
   "mimetype": "text/x-python",
   "name": "python",
   "nbconvert_exporter": "python",
   "pygments_lexer": "ipython3",
   "version": "3.6.4"
  },
  "toc": {
   "nav_menu": {},
   "number_sections": true,
   "sideBar": true,
   "skip_h1_title": false,
   "toc_cell": false,
   "toc_position": {},
   "toc_section_display": "block",
   "toc_window_display": false
  }
 },
 "nbformat": 4,
 "nbformat_minor": 2
}
